{
 "cells": [
  {
   "cell_type": "markdown",
   "id": "034f621d",
   "metadata": {},
   "source": [
    "# ETL WITH REGULAR EXPRESSION\n",
    "----------------------"
   ]
  },
  {
   "cell_type": "code",
   "execution_count": 1,
   "id": "bbdf358d",
   "metadata": {},
   "outputs": [],
   "source": [
    "import pandas as pd\n",
    "import numpy as np\n",
    "import re"
   ]
  },
  {
   "cell_type": "markdown",
   "id": "93146a53",
   "metadata": {},
   "source": [
    "---------------------------\n",
    "\n",
    "## First Question\n",
    "- Extract Names From a string."
   ]
  },
  {
   "cell_type": "code",
   "execution_count": 2,
   "id": "b4193e98",
   "metadata": {},
   "outputs": [],
   "source": [
    "simple_string = \"\"\"Amy is 5 years old, and her sister Mary is 2 years old. \n",
    "    Ruth and Peter, their parents, have 3 kids.\"\"\""
   ]
  },
  {
   "cell_type": "code",
   "execution_count": 3,
   "id": "7c782f7f",
   "metadata": {
    "scrolled": false
   },
   "outputs": [
    {
     "data": {
      "text/plain": [
       "['Amy', 'Mary', 'Ruth', 'Peter']"
      ]
     },
     "execution_count": 3,
     "metadata": {},
     "output_type": "execute_result"
    }
   ],
   "source": [
    "re.findall(\"[A-Z]+[a-z]+\",simple_string)"
   ]
  },
  {
   "cell_type": "markdown",
   "id": "6aa70d4b",
   "metadata": {},
   "source": [
    "## Second Question\n",
    "- Extract Specific grade.\n",
    "- Extract all grades."
   ]
  },
  {
   "cell_type": "code",
   "execution_count": 4,
   "id": "d8dfe2b7",
   "metadata": {},
   "outputs": [],
   "source": [
    "grades =\"\"\"Ronald Mayr: A\n",
    "Bell Kassulke: B\n",
    "Jacqueline Rupp: A \n",
    "Alexander Zeller: C\n",
    "Valentina Denk: C \n",
    "Simon Loidl: B \n",
    "Elias Jovanovic: B \n",
    "Stefanie Weninger: A \n",
    "Fabian Peer: C \n",
    "Hakim Botros: B\n",
    "Emilie Lorentsen: B\n",
    "Herman Karlsen: C\n",
    "Nathalie Delacruz: C\n",
    "Casey Hartman: C\n",
    "Lily Walker : A\n",
    "Gerard Wang: C\n",
    "Tony Mcdowell: C\n",
    "Jake Wood: B\n",
    "Fatemeh Akhtar: B\n",
    "Kim Weston: B\n",
    "Nicholas Beatty: A\n",
    "Kirsten Williams: C\n",
    "Vaishali Surana: C\n",
    "Coby Mccormack: C\n",
    "Yasmin Dar: B\n",
    "Romy Donnelly: A\n",
    "Viswamitra Upandhye: B\n",
    "Kendrick Hilpert: A\n",
    "Killian Kaufman: B\n",
    "Elwood Page: B\n",
    "Mukti Patel: A\n",
    "Emily Lesch: C\n",
    "Elodie Booker: B\n",
    "Jedd Kim: A\n",
    "Annabel Davies: A\n",
    "Adnan Chen: B\n",
    "Jonathan Berg: C\n",
    "Hank Spinka: B\n",
    "Agnes Schneider: C\n",
    "Kimberly Green: A\n",
    "Lola-Rose Coates: C\n",
    "Rose Christiansen: C\n",
    "Shirley Hintz: C\n",
    "Hannah Bayer: B\n",
    "\"\"\" \n",
    "\n"
   ]
  },
  {
   "cell_type": "code",
   "execution_count": 5,
   "id": "42571a2d",
   "metadata": {},
   "outputs": [
    {
     "data": {
      "text/plain": [
       "16"
      ]
     },
     "execution_count": 5,
     "metadata": {},
     "output_type": "execute_result"
    }
   ],
   "source": [
    "len(re.findall(\": B\",grades))"
   ]
  },
  {
   "cell_type": "code",
   "execution_count": 6,
   "id": "bd065a44",
   "metadata": {},
   "outputs": [
    {
     "data": {
      "text/plain": [
       "['B',\n",
       " 'B',\n",
       " 'B',\n",
       " 'B',\n",
       " 'B',\n",
       " 'B',\n",
       " 'B',\n",
       " 'B',\n",
       " 'B',\n",
       " 'B',\n",
       " 'B',\n",
       " 'B',\n",
       " 'B',\n",
       " 'B',\n",
       " 'B',\n",
       " 'B']"
      ]
     },
     "execution_count": 6,
     "metadata": {},
     "output_type": "execute_result"
    }
   ],
   "source": [
    "re.findall(\": (B)\",grades)"
   ]
  },
  {
   "cell_type": "code",
   "execution_count": 7,
   "id": "a8c40f4f",
   "metadata": {},
   "outputs": [
    {
     "data": {
      "text/plain": [
       "['A',\n",
       " 'B',\n",
       " 'A',\n",
       " 'C',\n",
       " 'C',\n",
       " 'B',\n",
       " 'B',\n",
       " 'A',\n",
       " 'C',\n",
       " 'B',\n",
       " 'B',\n",
       " 'C',\n",
       " 'C',\n",
       " 'C',\n",
       " 'A',\n",
       " 'C',\n",
       " 'C',\n",
       " 'B',\n",
       " 'B',\n",
       " 'B',\n",
       " 'A',\n",
       " 'C',\n",
       " 'C',\n",
       " 'C',\n",
       " 'B',\n",
       " 'A',\n",
       " 'B',\n",
       " 'A',\n",
       " 'B',\n",
       " 'B',\n",
       " 'A',\n",
       " 'C',\n",
       " 'B',\n",
       " 'A',\n",
       " 'A',\n",
       " 'B',\n",
       " 'C',\n",
       " 'B',\n",
       " 'C',\n",
       " 'A',\n",
       " 'C',\n",
       " 'C',\n",
       " 'C',\n",
       " 'B']"
      ]
     },
     "execution_count": 7,
     "metadata": {},
     "output_type": "execute_result"
    }
   ],
   "source": [
    "# All grades\n",
    "all_grades = re.findall(\": ([A-Z])\",grades)\n",
    "all_grades"
   ]
  },
  {
   "cell_type": "markdown",
   "id": "b43ad8c6",
   "metadata": {},
   "source": [
    "## Third Question\n",
    "- Extract host, user_name, time, request for log file."
   ]
  },
  {
   "cell_type": "markdown",
   "id": "d6b64d0d",
   "metadata": {},
   "source": [
    "- Sample logs "
   ]
  },
  {
   "cell_type": "markdown",
   "id": "e6e9c0cc",
   "metadata": {},
   "source": [
    "<img src=\"log_file.png\" width=1600 height=2000 />"
   ]
  },
  {
   "cell_type": "markdown",
   "id": "73fa92e2",
   "metadata": {},
   "source": [
    "- Read from log file \n",
    "- Extract Information using Regular Expression"
   ]
  },
  {
   "cell_type": "code",
   "execution_count": 8,
   "id": "e8047fa3",
   "metadata": {},
   "outputs": [],
   "source": [
    "def logs():\n",
    "    with open(\"logdata.txt\", \"r\") as file:\n",
    "        logdata = file.read()\n",
    "    d = []\n",
    "    for word in logdata.splitlines():\n",
    "        d.append({\n",
    "            \"host\":re.findall(\"\\d{1,3}\\.\\d{1,3}\\.\\d{1,3}\\.\\d{1,3}\",word)[0],\n",
    "            \"user_name\":re.findall(\"- ([a-z0-9]+) | - -\",word)[0],\n",
    "            \"time\":re.findall(\"\\d{1,2}\\S+ -[0-9]+\",word)[0],\n",
    "\n",
    "            \"request\":re.findall(\"POST.+\\\"|GET.+\\\"|PATCH.+\\\"|HEAD.+\\\"|DELETE.+\\\"|PUT.+\\\" \",word)[0][:-1]\n",
    "        })\n",
    "    return d"
   ]
  },
  {
   "cell_type": "code",
   "execution_count": 9,
   "id": "56e4f73e",
   "metadata": {},
   "outputs": [
    {
     "data": {
      "text/plain": [
       "True"
      ]
     },
     "execution_count": 9,
     "metadata": {},
     "output_type": "execute_result"
    }
   ],
   "source": [
    "# we have 979 log \n",
    "len(logs()) == 979"
   ]
  },
  {
   "cell_type": "markdown",
   "id": "85cdcde5",
   "metadata": {},
   "source": [
    "- convert log into a pandas data fram"
   ]
  },
  {
   "cell_type": "code",
   "execution_count": 16,
   "id": "c8313be0",
   "metadata": {},
   "outputs": [],
   "source": [
    "# Read logs with pandas data fram\n",
    "df_logs = pd.DataFrame(logs())"
   ]
  },
  {
   "cell_type": "code",
   "execution_count": 17,
   "id": "274d5d07",
   "metadata": {},
   "outputs": [
    {
     "data": {
      "text/html": [
       "<div>\n",
       "<style scoped>\n",
       "    .dataframe tbody tr th:only-of-type {\n",
       "        vertical-align: middle;\n",
       "    }\n",
       "\n",
       "    .dataframe tbody tr th {\n",
       "        vertical-align: top;\n",
       "    }\n",
       "\n",
       "    .dataframe thead th {\n",
       "        text-align: right;\n",
       "    }\n",
       "</style>\n",
       "<table border=\"1\" class=\"dataframe\">\n",
       "  <thead>\n",
       "    <tr style=\"text-align: right;\">\n",
       "      <th></th>\n",
       "      <th>host</th>\n",
       "      <th>user_name</th>\n",
       "      <th>time</th>\n",
       "      <th>request</th>\n",
       "    </tr>\n",
       "  </thead>\n",
       "  <tbody>\n",
       "    <tr>\n",
       "      <th>0</th>\n",
       "      <td>146.204.224.152</td>\n",
       "      <td>feest6811</td>\n",
       "      <td>21/Jun/2019:15:45:24 -0700</td>\n",
       "      <td>POST /incentivize HTTP/1.1</td>\n",
       "    </tr>\n",
       "    <tr>\n",
       "      <th>1</th>\n",
       "      <td>197.109.77.178</td>\n",
       "      <td>kertzmann3129</td>\n",
       "      <td>21/Jun/2019:15:45:25 -0700</td>\n",
       "      <td>DELETE /virtual/solutions/target/web+services ...</td>\n",
       "    </tr>\n",
       "    <tr>\n",
       "      <th>2</th>\n",
       "      <td>156.127.178.177</td>\n",
       "      <td>okuneva5222</td>\n",
       "      <td>21/Jun/2019:15:45:27 -0700</td>\n",
       "      <td>DELETE /interactive/transparent/niches/revolut...</td>\n",
       "    </tr>\n",
       "    <tr>\n",
       "      <th>3</th>\n",
       "      <td>100.32.205.59</td>\n",
       "      <td>ortiz8891</td>\n",
       "      <td>21/Jun/2019:15:45:28 -0700</td>\n",
       "      <td>PATCH /architectures HTTP/1.0</td>\n",
       "    </tr>\n",
       "    <tr>\n",
       "      <th>4</th>\n",
       "      <td>168.95.156.240</td>\n",
       "      <td>stark2413</td>\n",
       "      <td>21/Jun/2019:15:45:31 -0700</td>\n",
       "      <td>GET /engage HTTP/2.0</td>\n",
       "    </tr>\n",
       "    <tr>\n",
       "      <th>...</th>\n",
       "      <td>...</td>\n",
       "      <td>...</td>\n",
       "      <td>...</td>\n",
       "      <td>...</td>\n",
       "    </tr>\n",
       "    <tr>\n",
       "      <th>974</th>\n",
       "      <td>135.186.69.192</td>\n",
       "      <td></td>\n",
       "      <td>21/Jun/2019:16:01:58 -0700</td>\n",
       "      <td>PATCH /best-of-breed HTTP/1.1</td>\n",
       "    </tr>\n",
       "    <tr>\n",
       "      <th>975</th>\n",
       "      <td>32.86.3.51</td>\n",
       "      <td></td>\n",
       "      <td>21/Jun/2019:16:01:59 -0700</td>\n",
       "      <td>GET /optimize/impactful/sexy/channels HTTP/2.0</td>\n",
       "    </tr>\n",
       "    <tr>\n",
       "      <th>976</th>\n",
       "      <td>176.68.62.252</td>\n",
       "      <td>turner3261</td>\n",
       "      <td>21/Jun/2019:16:02:00 -0700</td>\n",
       "      <td>GET /viral HTTP/1.1</td>\n",
       "    </tr>\n",
       "    <tr>\n",
       "      <th>977</th>\n",
       "      <td>35.86.149.61</td>\n",
       "      <td>zemlak6334</td>\n",
       "      <td>21/Jun/2019:16:02:01 -0700</td>\n",
       "      <td>HEAD /incentivize HTTP/2.0</td>\n",
       "    </tr>\n",
       "    <tr>\n",
       "      <th>978</th>\n",
       "      <td>30.95.91.251</td>\n",
       "      <td>larson8319</td>\n",
       "      <td>21/Jun/2019:16:02:02 -0700</td>\n",
       "      <td>PUT /one-to-one/whiteboard HTTP/1.0\"</td>\n",
       "    </tr>\n",
       "  </tbody>\n",
       "</table>\n",
       "<p>979 rows × 4 columns</p>\n",
       "</div>"
      ],
      "text/plain": [
       "                host      user_name                        time  \\\n",
       "0    146.204.224.152      feest6811  21/Jun/2019:15:45:24 -0700   \n",
       "1     197.109.77.178  kertzmann3129  21/Jun/2019:15:45:25 -0700   \n",
       "2    156.127.178.177    okuneva5222  21/Jun/2019:15:45:27 -0700   \n",
       "3      100.32.205.59      ortiz8891  21/Jun/2019:15:45:28 -0700   \n",
       "4     168.95.156.240      stark2413  21/Jun/2019:15:45:31 -0700   \n",
       "..               ...            ...                         ...   \n",
       "974   135.186.69.192                 21/Jun/2019:16:01:58 -0700   \n",
       "975       32.86.3.51                 21/Jun/2019:16:01:59 -0700   \n",
       "976    176.68.62.252     turner3261  21/Jun/2019:16:02:00 -0700   \n",
       "977     35.86.149.61     zemlak6334  21/Jun/2019:16:02:01 -0700   \n",
       "978     30.95.91.251     larson8319  21/Jun/2019:16:02:02 -0700   \n",
       "\n",
       "                                               request  \n",
       "0                           POST /incentivize HTTP/1.1  \n",
       "1    DELETE /virtual/solutions/target/web+services ...  \n",
       "2    DELETE /interactive/transparent/niches/revolut...  \n",
       "3                        PATCH /architectures HTTP/1.0  \n",
       "4                                 GET /engage HTTP/2.0  \n",
       "..                                                 ...  \n",
       "974                      PATCH /best-of-breed HTTP/1.1  \n",
       "975     GET /optimize/impactful/sexy/channels HTTP/2.0  \n",
       "976                                GET /viral HTTP/1.1  \n",
       "977                         HEAD /incentivize HTTP/2.0  \n",
       "978               PUT /one-to-one/whiteboard HTTP/1.0\"  \n",
       "\n",
       "[979 rows x 4 columns]"
      ]
     },
     "execution_count": 17,
     "metadata": {},
     "output_type": "execute_result"
    }
   ],
   "source": [
    "df_logs"
   ]
  },
  {
   "cell_type": "code",
   "execution_count": null,
   "id": "79239daf",
   "metadata": {},
   "outputs": [],
   "source": []
  },
  {
   "cell_type": "code",
   "execution_count": null,
   "id": "4cff0fca",
   "metadata": {},
   "outputs": [],
   "source": []
  },
  {
   "cell_type": "code",
   "execution_count": null,
   "id": "d9f20527",
   "metadata": {},
   "outputs": [],
   "source": []
  },
  {
   "cell_type": "code",
   "execution_count": null,
   "id": "ca6f5eec",
   "metadata": {},
   "outputs": [],
   "source": []
  },
  {
   "cell_type": "code",
   "execution_count": null,
   "id": "8fb079cf",
   "metadata": {},
   "outputs": [],
   "source": []
  },
  {
   "cell_type": "code",
   "execution_count": null,
   "id": "55e3e43b",
   "metadata": {},
   "outputs": [],
   "source": []
  },
  {
   "cell_type": "code",
   "execution_count": null,
   "id": "50775cf4",
   "metadata": {},
   "outputs": [],
   "source": []
  },
  {
   "cell_type": "code",
   "execution_count": null,
   "id": "592eb4d2",
   "metadata": {},
   "outputs": [],
   "source": []
  },
  {
   "cell_type": "code",
   "execution_count": null,
   "id": "0b8dcca8",
   "metadata": {},
   "outputs": [],
   "source": []
  },
  {
   "cell_type": "code",
   "execution_count": null,
   "id": "2c2fe21e",
   "metadata": {},
   "outputs": [],
   "source": []
  },
  {
   "cell_type": "code",
   "execution_count": null,
   "id": "cf88cb50",
   "metadata": {},
   "outputs": [],
   "source": []
  },
  {
   "cell_type": "code",
   "execution_count": null,
   "id": "bc064a9f",
   "metadata": {},
   "outputs": [],
   "source": []
  },
  {
   "cell_type": "code",
   "execution_count": null,
   "id": "ac2c6607",
   "metadata": {},
   "outputs": [],
   "source": []
  },
  {
   "cell_type": "code",
   "execution_count": null,
   "id": "2dae645c",
   "metadata": {},
   "outputs": [],
   "source": []
  },
  {
   "cell_type": "code",
   "execution_count": null,
   "id": "414e67e9",
   "metadata": {},
   "outputs": [],
   "source": []
  }
 ],
 "metadata": {
  "kernelspec": {
   "display_name": "Python 3",
   "language": "python",
   "name": "python3"
  },
  "language_info": {
   "codemirror_mode": {
    "name": "ipython",
    "version": 3
   },
   "file_extension": ".py",
   "mimetype": "text/x-python",
   "name": "python",
   "nbconvert_exporter": "python",
   "pygments_lexer": "ipython3",
   "version": "3.8.8"
  }
 },
 "nbformat": 4,
 "nbformat_minor": 5
}
